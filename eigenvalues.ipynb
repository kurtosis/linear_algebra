{
 "cells": [
  {
   "cell_type": "code",
   "execution_count": 20,
   "metadata": {},
   "outputs": [],
   "source": [
    "# Import the libraries we need to do linear algebra\n",
    "import numpy as np\n",
    "import scipy as sp\n",
    "import pandas as pd\n",
    "import matplotlib as plt\n",
    "import copy"
   ]
  },
  {
   "cell_type": "markdown",
   "metadata": {},
   "source": [
    "# Basic eigenvalue/eigenvector computation\n",
    "Let's start with a simple example.\n",
    "\n",
    "Note: Remember that 0.707107 is 1/sqrt(2). This value shows up often in normalized vectors: [1,1] becomes [1/sqrt(2), 1/sqrt(2)]"
   ]
  },
  {
   "cell_type": "code",
   "execution_count": 21,
   "metadata": {},
   "outputs": [
    {
     "name": "stdout",
     "output_type": "stream",
     "text": [
      "<class 'numpy.ndarray'>\n",
      "(2, 2)\n",
      "[[1. 1.]\n",
      " [1. 1.]]\n"
     ]
    }
   ],
   "source": [
    "# Create a starting 2x2 matrix of all ones.\n",
    "base_matrix = np.ones((2,2))\n",
    "print(type(base_matrix))\n",
    "print(base_matrix.shape)\n",
    "print(base_matrix)"
   ]
  },
  {
   "cell_type": "code",
   "execution_count": 22,
   "metadata": {},
   "outputs": [],
   "source": [
    "# np.linalg.eig is the workhorse function to compute eigenvalues and eigenvectors. Let's look at its help text.\n",
    "?np.linalg.eig"
   ]
  },
  {
   "cell_type": "code",
   "execution_count": 23,
   "metadata": {},
   "outputs": [
    {
     "name": "stdout",
     "output_type": "stream",
     "text": [
      "<class 'numpy.ndarray'>\n",
      "(2,)\n",
      "[2. 0.]\n",
      "<class 'numpy.ndarray'>\n",
      "(2, 2)\n",
      "[[ 0.70710678 -0.70710678]\n",
      " [ 0.70710678  0.70710678]]\n"
     ]
    }
   ],
   "source": [
    "# Compute eigenvalues of the base matrix.\n",
    "# We use this trick in Python where the function np.linalg.eig returns a list of two things (see previous cell) and\n",
    "# we're allowed to put two variable names on the left hand side to assign to each of them.\n",
    "eigenvalues, eigenvectors = np.linalg.eig(base_matrix)\n",
    "print(type(eigenvalues)) # Use type and shape to understand what we got back from the function.\n",
    "print(eigenvalues.shape)\n",
    "print(eigenvalues)\n",
    "\n",
    "print(type(eigenvectors))\n",
    "print(eigenvectors.shape)\n",
    "print(eigenvectors)"
   ]
  },
  {
   "cell_type": "code",
   "execution_count": 24,
   "metadata": {},
   "outputs": [
    {
     "name": "stdout",
     "output_type": "stream",
     "text": [
      "------\n",
      "2.0\n",
      "[0.70710678 0.70710678]\n",
      "[1.41421356 1.41421356]\n",
      "[ True  True]\n",
      "------\n",
      "0.0\n",
      "[-0.70710678  0.70710678]\n",
      "[0. 0.]\n",
      "[ True  True]\n"
     ]
    }
   ],
   "source": [
    "for i in range(len(eigenvalues)):\n",
    "# Advanced: see also the enumerate() function to use in place of range(len())\n",
    "    print('------')\n",
    "    print(eigenvalues[i])\n",
    "    print(eigenvectors[:, i])\n",
    "    print(np.matmul(base_matrix, eigenvectors[:, i]))\n",
    "    # Check that multiplying the matrix with an eigenvector is equal to multiplying the eigenvector by its eigenvalue.\n",
    "    # Advanced: See also the np.isclose() function (instead of ==) for comparing two floats\n",
    "    print(np.matmul(base_matrix, eigenvectors[:, i]) == eigenvalues[i]*eigenvectors[:, i])"
   ]
  },
  {
   "cell_type": "markdown",
   "metadata": {},
   "source": [
    "# Tracing the path of eigenvalues\n",
    "Let's try perturbing (aka changing) the matrix a little bit at a time and track how the eigenvalues and eigenvectors change when we do that."
   ]
  },
  {
   "cell_type": "code",
   "execution_count": 25,
   "metadata": {},
   "outputs": [],
   "source": [
    "def increment_matrix(matrix: np.array, posn=(0,0), incr=0.01):\n",
    "    \"\"\"\n",
    "    Increment the value of one position in a matrix by a given amount.\n",
    "    Requires the argument matrix to have type np.array\n",
    "    \"\"\"\n",
    "    # We need to use copy.copy to create a new array. \"new_matrix = matrix\" would just point to the original array.\n",
    "    new_matrix = copy.copy(matrix) \n",
    "    # If we had not used copy.copy above then the next line would also change the value of matrix, which we do not want\n",
    "    new_matrix[posn] += incr\n",
    "    return new_matrix"
   ]
  },
  {
   "cell_type": "code",
   "execution_count": 26,
   "metadata": {},
   "outputs": [
    {
     "name": "stdout",
     "output_type": "stream",
     "text": [
      "orig value of test_matrix\n",
      "[[1. 1.]\n",
      " [1. 1.]]\n",
      "orig value of second_test_matrix\n",
      "[[1. 1.]\n",
      " [1. 1.]]\n",
      "final value of test_matrix - not what we want\n",
      "[[555556. 555556.]\n",
      " [555556. 555556.]]\n",
      "final value of second_test_matrix\n",
      "[[555556. 555556.]\n",
      " [555556. 555556.]]\n"
     ]
    }
   ],
   "source": [
    "# As an aside, here's an example of what can happen if we don't use copy.copy. (Bad!)\n",
    "# This is just a glitch of how Python was designed.\n",
    "# (There are reasons they made it that way but not worth getting into)\n",
    "test_matrix = np.ones((2,2))\n",
    "second_test_matrix = test_matrix # no copy.copy\n",
    "print('orig value of test_matrix')\n",
    "print(test_matrix)\n",
    "print('orig value of second_test_matrix')\n",
    "print(second_test_matrix)\n",
    "\n",
    "# We only want to change second_test_matrix\n",
    "second_test_matrix += 555555\n",
    "\n",
    "print('final value of test_matrix - not what we want')\n",
    "print(test_matrix)\n",
    "print('final value of second_test_matrix')\n",
    "print(second_test_matrix)"
   ]
  },
  {
   "cell_type": "code",
   "execution_count": 27,
   "metadata": {},
   "outputs": [
    {
     "name": "stdout",
     "output_type": "stream",
     "text": [
      "orig value of test_matrix\n",
      "[[1. 1.]\n",
      " [1. 1.]]\n",
      "orig value of second_test_matrix\n",
      "[[1. 1.]\n",
      " [1. 1.]]\n",
      "final value of test_matrix - it isn't changed\n",
      "[[1. 1.]\n",
      " [1. 1.]]\n",
      "final value of second_test_matrix\n",
      "[[555556. 555556.]\n",
      " [555556. 555556.]]\n"
     ]
    }
   ],
   "source": [
    "# Here's an example of what happens when we use copy.copy. (Good!)\n",
    "test_matrix = np.ones((2,2))\n",
    "second_test_matrix = copy.copy(test_matrix)\n",
    "print('orig value of test_matrix')\n",
    "print(test_matrix)\n",
    "print('orig value of second_test_matrix')\n",
    "print(second_test_matrix)\n",
    "\n",
    "second_test_matrix += 555555\n",
    "\n",
    "print('final value of test_matrix - it isn\\'t changed')\n",
    "print(test_matrix)\n",
    "print('final value of second_test_matrix')\n",
    "print(second_test_matrix)"
   ]
  },
  {
   "cell_type": "code",
   "execution_count": 28,
   "metadata": {},
   "outputs": [],
   "source": [
    "def increment_eigenvalues(base_matrix, increment, posn=(0,0)):\n",
    "    \"\"\"\n",
    "    Add the amount increment to the top left element of base_matrix and return the eigenvalues/eigenvectors\n",
    "    \"\"\"\n",
    "    new_matrix = increment_matrix(base_matrix, incr=increment, posn=posn)\n",
    "    return np.linalg.eig(new_matrix)"
   ]
  },
  {
   "cell_type": "code",
   "execution_count": 29,
   "metadata": {},
   "outputs": [
    {
     "name": "stdout",
     "output_type": "stream",
     "text": [
      "[0.   0.01 0.02 0.03 0.04 0.05 0.06 0.07 0.08 0.09 0.1  0.11 0.12 0.13\n",
      " 0.14 0.15 0.16 0.17 0.18 0.19 0.2  0.21 0.22 0.23 0.24 0.25 0.26 0.27\n",
      " 0.28 0.29 0.3  0.31 0.32 0.33 0.34 0.35 0.36 0.37 0.38 0.39 0.4  0.41\n",
      " 0.42 0.43 0.44 0.45 0.46 0.47 0.48 0.49]\n"
     ]
    }
   ],
   "source": [
    "increments = np.arange(0, 0.5, 0.01)\n",
    "print(increments)\n",
    "# Use a list comprehension (\"[...for...in...]\") to get the eigenvalues for several matrices\n",
    "# that are perturbations of base_matrix. We gradually increase the upper left element.\n",
    "eigen_path = [increment_eigenvalues(base_matrix, increment) for increment in increments]"
   ]
  },
  {
   "cell_type": "code",
   "execution_count": 30,
   "metadata": {},
   "outputs": [
    {
     "name": "stdout",
     "output_type": "stream",
     "text": [
      "50\n",
      "0.0\n",
      "(array([2., 0.]), array([[ 0.70710678, -0.70710678],\n",
      "       [ 0.70710678,  0.70710678]]))\n",
      "0.01\n",
      "(array([2.0050125, 0.0049875]), array([[ 0.70887232, -0.70533682],\n",
      "       [ 0.70533682,  0.70887232]]))\n",
      "0.49\n",
      "(array([2.27457516, 0.21542484]), array([[ 0.78675353, -0.61726727],\n",
      "       [ 0.61726727,  0.78675353]]))\n"
     ]
    }
   ],
   "source": [
    "print(len(eigen_path))\n",
    "# first element (base_matrix)\n",
    "print(increments[0])\n",
    "print(eigen_path[0])\n",
    "# second element (base_matrix + smallest increment)\n",
    "print(increments[1])\n",
    "print(eigen_path[1])\n",
    "# last element (base_matrix + largest increment)\n",
    "print(increments[-1])\n",
    "print(eigen_path[-1])"
   ]
  },
  {
   "cell_type": "code",
   "execution_count": 31,
   "metadata": {},
   "outputs": [
    {
     "name": "stdout",
     "output_type": "stream",
     "text": [
      "<class 'list'>\n",
      "50\n",
      "(array([2., 0.]), array([[ 0.70710678, -0.70710678],\n",
      "       [ 0.70710678,  0.70710678]]))\n",
      "<class 'tuple'>\n",
      "2\n",
      "<class 'numpy.ndarray'>\n",
      "[2. 0.]\n",
      "<class 'numpy.ndarray'>\n",
      "[[ 0.70710678 -0.70710678]\n",
      " [ 0.70710678  0.70710678]]\n"
     ]
    }
   ],
   "source": [
    "# This next part is basically just Python bookkeeping. We want to make a table showing how the eigenvalues change as\n",
    "# we increment the matrix. eigen_path isn't in table form- it's kind of a hassle to get there, you just need to get used to the steps.\n",
    "# eigen_path is a list. Each element if the list is a tuple (a special type of list). Inside each tuple are two\n",
    "# numpy arrays, one for eigenvalues and one for eigenvectors.\n",
    "\n",
    "print(type(eigen_path))\n",
    "print(len(eigen_path))\n",
    "print(eigen_path[0])\n",
    "print(type(eigen_path[0]))\n",
    "print(len(eigen_path[0]))\n",
    "print(type(eigen_path[0][0]))\n",
    "print(eigen_path[0][0])\n",
    "print(type(eigen_path[0][1]))\n",
    "print(eigen_path[0][1])"
   ]
  },
  {
   "cell_type": "code",
   "execution_count": 32,
   "metadata": {},
   "outputs": [
    {
     "data": {
      "text/html": [
       "<div>\n",
       "<style scoped>\n",
       "    .dataframe tbody tr th:only-of-type {\n",
       "        vertical-align: middle;\n",
       "    }\n",
       "\n",
       "    .dataframe tbody tr th {\n",
       "        vertical-align: top;\n",
       "    }\n",
       "\n",
       "    .dataframe thead th {\n",
       "        text-align: right;\n",
       "    }\n",
       "</style>\n",
       "<table border=\"1\" class=\"dataframe\">\n",
       "  <thead>\n",
       "    <tr style=\"text-align: right;\">\n",
       "      <th></th>\n",
       "      <th>eigenvalue_1</th>\n",
       "      <th>eigenvalue_2</th>\n",
       "    </tr>\n",
       "  </thead>\n",
       "  <tbody>\n",
       "    <tr>\n",
       "      <th>0</th>\n",
       "      <td>2.000000</td>\n",
       "      <td>0.000000</td>\n",
       "    </tr>\n",
       "    <tr>\n",
       "      <th>1</th>\n",
       "      <td>2.005012</td>\n",
       "      <td>0.004988</td>\n",
       "    </tr>\n",
       "    <tr>\n",
       "      <th>2</th>\n",
       "      <td>2.010050</td>\n",
       "      <td>0.009950</td>\n",
       "    </tr>\n",
       "    <tr>\n",
       "      <th>3</th>\n",
       "      <td>2.015112</td>\n",
       "      <td>0.014888</td>\n",
       "    </tr>\n",
       "    <tr>\n",
       "      <th>4</th>\n",
       "      <td>2.020200</td>\n",
       "      <td>0.019800</td>\n",
       "    </tr>\n",
       "  </tbody>\n",
       "</table>\n",
       "</div>"
      ],
      "text/plain": [
       "   eigenvalue_1  eigenvalue_2\n",
       "0      2.000000      0.000000\n",
       "1      2.005012      0.004988\n",
       "2      2.010050      0.009950\n",
       "3      2.015112      0.014888\n",
       "4      2.020200      0.019800"
      ]
     },
     "execution_count": 32,
     "metadata": {},
     "output_type": "execute_result"
    }
   ],
   "source": [
    "# Use another list comprehension to pull out all of the eigenvalues. (Two for each matrix we incremented over)\n",
    "eigenvalues = [x[0] for x in eigen_path]\n",
    "# Now we're going to turn these into a \"Pandas dataframe\" which is an object that's basically a table.\n",
    "eigen_path_dataframe = pd.DataFrame(eigenvalues, columns=['eigenvalue_1', 'eigenvalue_2'])\n",
    "# Let's print out the first few rows:\n",
    "eigen_path_dataframe.head()"
   ]
  },
  {
   "cell_type": "code",
   "execution_count": 33,
   "metadata": {},
   "outputs": [
    {
     "data": {
      "text/html": [
       "<div>\n",
       "<style scoped>\n",
       "    .dataframe tbody tr th:only-of-type {\n",
       "        vertical-align: middle;\n",
       "    }\n",
       "\n",
       "    .dataframe tbody tr th {\n",
       "        vertical-align: top;\n",
       "    }\n",
       "\n",
       "    .dataframe thead th {\n",
       "        text-align: right;\n",
       "    }\n",
       "</style>\n",
       "<table border=\"1\" class=\"dataframe\">\n",
       "  <thead>\n",
       "    <tr style=\"text-align: right;\">\n",
       "      <th></th>\n",
       "      <th>increment</th>\n",
       "      <th>eigenvalue_1</th>\n",
       "      <th>eigenvalue_2</th>\n",
       "    </tr>\n",
       "  </thead>\n",
       "  <tbody>\n",
       "    <tr>\n",
       "      <th>0</th>\n",
       "      <td>0.00</td>\n",
       "      <td>2.000000</td>\n",
       "      <td>0.000000</td>\n",
       "    </tr>\n",
       "    <tr>\n",
       "      <th>1</th>\n",
       "      <td>0.01</td>\n",
       "      <td>2.005012</td>\n",
       "      <td>0.004988</td>\n",
       "    </tr>\n",
       "    <tr>\n",
       "      <th>2</th>\n",
       "      <td>0.02</td>\n",
       "      <td>2.010050</td>\n",
       "      <td>0.009950</td>\n",
       "    </tr>\n",
       "    <tr>\n",
       "      <th>3</th>\n",
       "      <td>0.03</td>\n",
       "      <td>2.015112</td>\n",
       "      <td>0.014888</td>\n",
       "    </tr>\n",
       "    <tr>\n",
       "      <th>4</th>\n",
       "      <td>0.04</td>\n",
       "      <td>2.020200</td>\n",
       "      <td>0.019800</td>\n",
       "    </tr>\n",
       "  </tbody>\n",
       "</table>\n",
       "</div>"
      ],
      "text/plain": [
       "   increment  eigenvalue_1  eigenvalue_2\n",
       "0       0.00      2.000000      0.000000\n",
       "1       0.01      2.005012      0.004988\n",
       "2       0.02      2.010050      0.009950\n",
       "3       0.03      2.015112      0.014888\n",
       "4       0.04      2.020200      0.019800"
      ]
     },
     "execution_count": 33,
     "metadata": {},
     "output_type": "execute_result"
    }
   ],
   "source": [
    "# Let's add a column with the increment values\n",
    "eigen_path_dataframe['increment'] = increments\n",
    "# Reorder the columns so increment is first\n",
    "eigen_path_dataframe = eigen_path_dataframe[['increment', 'eigenvalue_1', 'eigenvalue_2']]\n",
    "eigen_path_dataframe.head()"
   ]
  },
  {
   "cell_type": "code",
   "execution_count": 34,
   "metadata": {},
   "outputs": [
    {
     "data": {
      "text/plain": [
       "<matplotlib.axes._subplots.AxesSubplot at 0x10f39c198>"
      ]
     },
     "execution_count": 34,
     "metadata": {},
     "output_type": "execute_result"
    },
    {
     "data": {
      "image/png": "[encoded data removed]",
      "text/plain": [
       "<Figure size 432x288 with 1 Axes>"
      ]
     },
     "metadata": {
      "needs_background": "light"
     },
     "output_type": "display_data"
    },
    {
     "data": {
      "image/png": "[encoded data removed]",
      "text/plain": [
       "<Figure size 432x288 with 1 Axes>"
      ]
     },
     "metadata": {
      "needs_background": "light"
     },
     "output_type": "display_data"
    }
   ],
   "source": [
    "# Finally we can plot how the eigenvalues change as we increase the top left element of the matrix.\n",
    "# They more or less follow a straight line, not that interesting.\n",
    "eigen_path_dataframe.plot.scatter('increment', 'eigenvalue_1')\n",
    "eigen_path_dataframe.plot.scatter('increment', 'eigenvalue_2')"
   ]
  },
  {
   "cell_type": "code",
   "execution_count": 35,
   "metadata": {},
   "outputs": [
    {
     "data": {
      "text/plain": [
       "<matplotlib.axes._subplots.AxesSubplot at 0x10c59aa20>"
      ]
     },
     "execution_count": 35,
     "metadata": {},
     "output_type": "execute_result"
    },
    {
     "data": {
      "image/png": "[encoded data removed]",
      "text/plain": [
       "<Figure size 432x288 with 1 Axes>"
      ]
     },
     "metadata": {
      "needs_background": "light"
     },
     "output_type": "display_data"
    },
    {
     "data": {
      "image/png": "[encoded data removed]",
      "text/plain": [
       "<Figure size 432x288 with 1 Axes>"
      ]
     },
     "metadata": {
      "needs_background": "light"
     },
     "output_type": "display_data"
    }
   ],
   "source": [
    "# Let's see what happens if we increase the top left element by a lot more.\n",
    "# The first eigenvalue keeps increasing linearly but the second eigenvalue plateaus at 1!\n",
    "increments2 = np.arange(0, 20, 0.2)\n",
    "eigen_path2 = [increment_eigenvalues(base_matrix, increment) for increment in increments2]\n",
    "eigenvalues2 = [x[0] for x in eigen_path2]\n",
    "eigen_path_dataframe2 = pd.DataFrame(eigenvalues2, columns=['eigenvalue_1', 'eigenvalue_2'])\n",
    "eigen_path_dataframe2['increment'] = increments2\n",
    "eigen_path_dataframe2.plot.scatter('increment', 'eigenvalue_1')\n",
    "eigen_path_dataframe2.plot.scatter('increment', 'eigenvalue_2')"
   ]
  },
  {
   "cell_type": "code",
   "execution_count": 36,
   "metadata": {},
   "outputs": [
    {
     "data": {
      "text/plain": [
       "<matplotlib.axes._subplots.AxesSubplot at 0x10fd1d908>"
      ]
     },
     "execution_count": 36,
     "metadata": {},
     "output_type": "execute_result"
    },
    {
     "data": {
      "image/png": "[encoded data removed]",
      "text/plain": [
       "<Figure size 432x288 with 1 Axes>"
      ]
     },
     "metadata": {
      "needs_background": "light"
     },
     "output_type": "display_data"
    },
    {
     "data": {
      "image/png": "[encoded data removed]",
      "text/plain": [
       "<Figure size 432x288 with 1 Axes>"
      ]
     },
     "metadata": {
      "needs_background": "light"
     },
     "output_type": "display_data"
    }
   ],
   "source": [
    "# What happens if we DECREASE the top left element by a lot more.\n",
    "# Now the second eigenvalue keeps decreasing but the FIRST eigenvalue plateaus at 1!\n",
    "increments2 = np.arange(0, -20, -0.5)\n",
    "eigen_path2 = [increment_eigenvalues(base_matrix, increment) for increment in increments2]\n",
    "eigenvalues2 = [x[0] for x in eigen_path2]\n",
    "\n",
    "# Kind of a pain, we need to do this sorting trick to make sure eigenvalue_1 is always the larger of the two.\n",
    "eigenvalues2 = [np.sort(x)[::-1] for x in eigenvalues2]\n",
    "\n",
    "eigen_path_dataframe2 = pd.DataFrame(eigenvalues2, columns=['eigenvalue_1', 'eigenvalue_2'])\n",
    "eigen_path_dataframe2['increment'] = increments2\n",
    "eigen_path_dataframe2.plot.scatter('increment', 'eigenvalue_1')\n",
    "eigen_path_dataframe2.plot.scatter('increment', 'eigenvalue_2')"
   ]
  },
  {
   "cell_type": "markdown",
   "metadata": {},
   "source": [
    "# Perturbing an off-diagonal element\n",
    "So far we only perturbed the top left element, which is on the diagonal. What happens if we perturb the top right element, which is off-diagonal.\n",
    "(Note: I think you can show by symmetry that perturbing the bottom right element has the same effect as perturbing the top left element since they're both on the diagonal.)"
   ]
  },
  {
   "cell_type": "code",
   "execution_count": 37,
   "metadata": {},
   "outputs": [
    {
     "data": {
      "text/plain": [
       "<matplotlib.axes._subplots.AxesSubplot at 0x10fcf3978>"
      ]
     },
     "execution_count": 37,
     "metadata": {},
     "output_type": "execute_result"
    },
    {
     "data": {
      "image/png": "[encoded data removed]",
      "text/plain": [
       "<Figure size 432x288 with 1 Axes>"
      ]
     },
     "metadata": {
      "needs_background": "light"
     },
     "output_type": "display_data"
    },
    {
     "data": {
      "image/png": "[encoded data removed]",
      "text/plain": [
       "<Figure size 432x288 with 1 Axes>"
      ]
     },
     "metadata": {
      "needs_background": "light"
     },
     "output_type": "display_data"
    }
   ],
   "source": [
    "# What happens if we increase the top right element?\n",
    "increments2 = np.arange(0, 100, 1)\n",
    "eigen_path2 = [increment_eigenvalues(base_matrix, increment, posn=(0,1)) for increment in increments2]\n",
    "eigenvalues2 = [x[0] for x in eigen_path2]\n",
    "\n",
    "# Kind of a pain, we need to do this sorting trick to make sure eigenvalue_1 is always the larger of the two.\n",
    "eigenvalues2 = [np.sort(x)[::-1] for x in eigenvalues2]\n",
    "\n",
    "eigen_path_dataframe2 = pd.DataFrame(eigenvalues2, columns=['eigenvalue_1', 'eigenvalue_2'])\n",
    "eigen_path_dataframe2['increment'] = increments2\n",
    "eigen_path_dataframe2.plot.scatter('increment', 'eigenvalue_1')\n",
    "eigen_path_dataframe2.plot.scatter('increment', 'eigenvalue_2')"
   ]
  },
  {
   "cell_type": "code",
   "execution_count": 38,
   "metadata": {},
   "outputs": [
    {
     "name": "stderr",
     "output_type": "stream",
     "text": [
      "/Users/kurtsmith/.pyenv/versions/3.6.6/envs/py3.6/lib/python3.6/site-packages/numpy/core/numeric.py:544: ComplexWarning: Casting complex values to real discards the imaginary part\n",
      "  return array(a, dtype, copy=False, order=order, subok=True)\n"
     ]
    },
    {
     "data": {
      "text/plain": [
       "<matplotlib.axes._subplots.AxesSubplot at 0x10feb8550>"
      ]
     },
     "execution_count": 38,
     "metadata": {},
     "output_type": "execute_result"
    },
    {
     "data": {
      "image/png": "[encoded data removed]",
      "text/plain": [
       "<Figure size 432x288 with 1 Axes>"
      ]
     },
     "metadata": {
      "needs_background": "light"
     },
     "output_type": "display_data"
    },
    {
     "data": {
      "image/png": "[encoded data removed]",
      "text/plain": [
       "<Figure size 432x288 with 1 Axes>"
      ]
     },
     "metadata": {
      "needs_background": "light"
     },
     "output_type": "display_data"
    }
   ],
   "source": [
    "# What happens if we decrease the top right element?\n",
    "# When it decreases to 0 and below both eigenvalues become 1.\n",
    "# I think what's really happening is that the eigenvalues become complex, not sure if Python can represent that.\n",
    "increments2 = np.arange(0, -1.2, -0.01)\n",
    "eigen_path2 = [increment_eigenvalues(base_matrix, increment, posn=(0,1)) for increment in increments2]\n",
    "eigenvalues2 = [x[0] for x in eigen_path2]\n",
    "\n",
    "# Kind of a pain, we need to do this sorting trick to make sure eigenvalue_1 is always the larger of the two.\n",
    "eigenvalues2 = [np.sort(x)[::-1] for x in eigenvalues2]\n",
    "\n",
    "eigen_path_dataframe2 = pd.DataFrame(eigenvalues2, columns=['eigenvalue_1', 'eigenvalue_2'])\n",
    "eigen_path_dataframe2['increment'] = increments2\n",
    "eigen_path_dataframe2.plot.scatter('increment', 'eigenvalue_1')\n",
    "eigen_path_dataframe2.plot.scatter('increment', 'eigenvalue_2')"
   ]
  }
 ],
 "metadata": {
  "kernelspec": {
   "display_name": "Python 3",
   "language": "python",
   "name": "python3"
  },
  "language_info": {
   "codemirror_mode": {
    "name": "ipython",
    "version": 3
   },
   "file_extension": ".py",
   "mimetype": "text/x-python",
   "name": "python",
   "nbconvert_exporter": "python",
   "pygments_lexer": "ipython3",
   "version": "3.6.6"
  }
 },
 "nbformat": 4,
 "nbformat_minor": 2
}
