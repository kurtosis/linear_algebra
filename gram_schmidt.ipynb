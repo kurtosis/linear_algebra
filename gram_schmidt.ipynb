{
 "cells": [
  {
   "cell_type": "markdown",
   "metadata": {},
   "source": [
    "# Gram Schmidt Algorithm\n",
    "This is an exercise to use the Gram-Schmidt algorithm to find an orthonormal basis for a space of polynomial functions up to degree $n$.\n",
    "I define functions to:\n",
    "- multiply two polynomials\n",
    "- integrate a single polynomial\n",
    "- get the inner product between two polynomials\n",
    "\n",
    "and finally I put all these together to:\n",
    "\n",
    "- determine an orthonormal basis using Gram-Schmidt\n",
    "\n",
    "Polynomials are represented as a list (or numpy array) of their coefficients.\n",
    "For example the list:\n",
    "\n",
    "[3, 2, 0, -10]\n",
    "\n",
    "represents the polynomial function:\n",
    "\n",
    "$3 + 2x + 0x^2- 10x^3$\n"
   ]
  },
  {
   "cell_type": "code",
   "execution_count": 1,
   "metadata": {},
   "outputs": [],
   "source": [
    "import numpy as np"
   ]
  },
  {
   "cell_type": "code",
   "execution_count": 72,
   "metadata": {},
   "outputs": [],
   "source": [
    "def polynomial_product(f, g):\n",
    "    \"\"\"\n",
    "    Multiplies two polynomial functions to return a polynomial function.\n",
    "    Input: two polynomial functions represented as coefficient lists.\n",
    "            0th term is the coefficient of 1,\n",
    "            1st term is the coefficient of x,\n",
    "            2nd term is the coefficient of x^2, etc.\n",
    "    Output: a polynomial function expressed in the same manner.\n",
    "    \"\"\"\n",
    "    f_times_g = np.zeros(len(f) + len(g) - 1)\n",
    "    for index_f, value_f in enumerate(f):\n",
    "        for index_g, value_g in enumerate(g):\n",
    "            f_times_g[index_f + index_g] += value_f*value_g\n",
    "    return(f_times_g)\n",
    "\n",
    "def polynomial_integral(f, limits=None):\n",
    "    \"\"\"\n",
    "    Integrate a polynomial.\n",
    "    Input: polynomial function represented as a coefficient list.\n",
    "    Output:\n",
    "        If limits=None returns the polynomial for the indefinite integral.\n",
    "        If limits are defined, returns the definite integral between them, a scalar.\n",
    "    \"\"\"\n",
    "    f_integrated = np.zeros(len(f) + 1)\n",
    "    for index_f, value_f in enumerate(f):\n",
    "        f_integrated[index_f + 1] = value_f/(index_f+1)\n",
    "    if limits:\n",
    "        # definite integral\n",
    "        assert(len(limits)==2) # Should contain the lower and upper limit.\n",
    "        result = 0\n",
    "        for index, value in enumerate(f_integrated):\n",
    "            result += value*(limits[1]**index - limits[0]**index)\n",
    "        return(result)\n",
    "    else:\n",
    "        # indefinite integral\n",
    "        return(f_integrated)\n",
    "    \n",
    "def inner_prod_polynomials(f, g):\n",
    "    \"\"\"\n",
    "    Compute the inner product of two polynomials,\n",
    "    defined as the integral of their product over the range (-1, 1)\n",
    "    \"\"\"\n",
    "    product = polynomial_product(f, g)\n",
    "    return(polynomial_integral(product, limits=(-1, 1)))\n",
    "\n",
    "def gram_schmidt(highest_polynomial_degree=2):\n",
    "    \"\"\"\n",
    "    Implements the Gram-Schmidt algorithm.\n",
    "    \"\"\"\n",
    "    # The rows of naive_basis represent the simple polynomial functions 1, x, x^2, etc.\n",
    "    naive_basis = np.identity(highest_polynomial_degree+1)\n",
    "\n",
    "    # In the for loop below we will fill in the rows of q with the functions in the orthonormal basis\n",
    "    q = np.zeros([highest_polynomial_degree+1, highest_polynomial_degree+1])\n",
    "    \n",
    "    # Loop over all of the simple polynomial functions\n",
    "    for j, u_j in enumerate(naive_basis):\n",
    "        v = u_j\n",
    "        for i in range(j):\n",
    "            r_ij = inner_prod_polynomials(q[i], u_j)\n",
    "            v = v - r_ij*q[i]\n",
    "        r_jj = np.sqrt(inner_prod_polynomials(v,v))\n",
    "        q[j] = v/r_jj\n",
    "\n",
    "    return(q)"
   ]
  },
  {
   "cell_type": "markdown",
   "metadata": {},
   "source": [
    "# The main result"
   ]
  },
  {
   "cell_type": "code",
   "execution_count": 81,
   "metadata": {},
   "outputs": [
    {
     "data": {
      "text/plain": [
       "array([[ 0.70710678,  0.        ,  0.        ],\n",
       "       [ 0.        ,  1.22474487,  0.        ],\n",
       "       [-0.79056942,  0.        ,  2.37170825]])"
      ]
     },
     "execution_count": 81,
     "metadata": {},
     "output_type": "execute_result"
    }
   ],
   "source": [
    "# Use Gram-Schmidt to get an orthogonal basis for 2nd degree polynomials\n",
    "gram_schmidt(highest_polynomial_degree=2)"
   ]
  },
  {
   "cell_type": "code",
   "execution_count": 77,
   "metadata": {},
   "outputs": [
    {
     "data": {
      "text/plain": [
       "0.7071067811865475"
      ]
     },
     "metadata": {},
     "output_type": "display_data"
    },
    {
     "data": {
      "text/plain": [
       "1.224744871391589"
      ]
     },
     "metadata": {},
     "output_type": "display_data"
    },
    {
     "data": {
      "text/plain": [
       "0.7905694150420949"
      ]
     },
     "metadata": {},
     "output_type": "display_data"
    },
    {
     "data": {
      "text/plain": [
       "2.3717082451262845"
      ]
     },
     "metadata": {},
     "output_type": "display_data"
    }
   ],
   "source": [
    "# Check that these values match what I got by hand.\n",
    "display(1/np.sqrt(2))\n",
    "display(np.sqrt(3/2))\n",
    "display(np.sqrt(5/8))\n",
    "display(3*np.sqrt(5/8))"
   ]
  },
  {
   "cell_type": "code",
   "execution_count": 52,
   "metadata": {},
   "outputs": [
    {
     "data": {
      "text/plain": [
       "array([0., 1.])"
      ]
     },
     "metadata": {},
     "output_type": "display_data"
    },
    {
     "data": {
      "text/plain": [
       "2.0"
      ]
     },
     "metadata": {},
     "output_type": "display_data"
    },
    {
     "data": {
      "text/plain": [
       "0.0"
      ]
     },
     "metadata": {},
     "output_type": "display_data"
    },
    {
     "data": {
      "text/plain": [
       "0.6666666666666666"
      ]
     },
     "metadata": {},
     "output_type": "display_data"
    },
    {
     "data": {
      "text/plain": [
       "2.6666666666666665"
      ]
     },
     "metadata": {},
     "output_type": "display_data"
    }
   ],
   "source": [
    "# Some more checks that the integration function works correct.\n",
    "# Could add unit tests to be rigorous.\n",
    "display(polynomial_integral([1]))\n",
    "display(polynomial_integral([1], limits=(-1,1)))\n",
    "display(polynomial_integral([0, 1], limits=(-1,1)))\n",
    "display(polynomial_integral([0, 0, 1], limits=(-1,1)))\n",
    "display(polynomial_integral([1, 0, 1], limits=(-1,1)))"
   ]
  }
 ],
 "metadata": {
  "kernelspec": {
   "display_name": "Python 3",
   "language": "python",
   "name": "python3"
  },
  "language_info": {
   "codemirror_mode": {
    "name": "ipython",
    "version": 3
   },
   "file_extension": ".py",
   "mimetype": "text/x-python",
   "name": "python",
   "nbconvert_exporter": "python",
   "pygments_lexer": "ipython3",
   "version": "3.6.6"
  }
 },
 "nbformat": 4,
 "nbformat_minor": 2
}
